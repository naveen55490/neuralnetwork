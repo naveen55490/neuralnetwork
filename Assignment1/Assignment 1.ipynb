{
 "cells": [
  {
   "cell_type": "code",
   "execution_count": 1,
   "id": "89b78636",
   "metadata": {},
   "outputs": [
    {
     "name": "stdout",
     "output_type": "stream",
     "text": [
      "htyp\n"
     ]
    }
   ],
   "source": [
    "x=\"python\"\n",
    "s1=x[:len(x)-2]\n",
    "print(s1[::-1])"
   ]
  },
  {
   "cell_type": "code",
   "execution_count": 5,
   "id": "c4433a1c",
   "metadata": {},
   "outputs": [
    {
     "name": "stdout",
     "output_type": "stream",
     "text": [
      "6 3\n",
      "Addition of 6 and 3 is 9\n",
      "Subtraction of 6 and 3 is 3\n",
      "Multiplication of 6 and 3 is 18\n",
      "Division of 6 and 3 is 2\n",
      "Modulo Division of 6 and 3 is 0\n"
     ]
    }
   ],
   "source": [
    "x,y=map(int, input().split())\n",
    "print(\"Addition of \" + str(x) + \" and \" + str(y) + \" is \"+ str(x+y))\n",
    "print(\"Subtraction of \" + str(x) + \" and \" + str(y) + \" is \"+ str(x-y))\n",
    "print(\"Multiplication of \" + str(x) + \" and \" + str(y) + \" is \"+ str(x*y))\n",
    "print(\"Division of \" + str(x) + \" and \" + str(y) + \" is \"+ str(x//y))\n",
    "print(\"Modulo Division of \" + str(x) + \" and \" + str(y) + \" is \"+ str(x%y))"
   ]
  },
  {
   "cell_type": "code",
   "execution_count": 6,
   "id": "2f944a31",
   "metadata": {},
   "outputs": [
    {
     "name": "stdout",
     "output_type": "stream",
     "text": [
      "I\" like playing with python\n"
     ]
    },
    {
     "data": {
      "text/plain": [
       "'I\" like playing with pythons'"
      ]
     },
     "execution_count": 6,
     "metadata": {},
     "output_type": "execute_result"
    }
   ],
   "source": [
    "txt = input()\n",
    "x = txt.replace(\"python\", \"pythons\")\n",
    "x"
   ]
  },
  {
   "cell_type": "code",
   "execution_count": 7,
   "id": "81858dc2",
   "metadata": {},
   "outputs": [
    {
     "name": "stdout",
     "output_type": "stream",
     "text": [
      "66\n",
      "D\n"
     ]
    }
   ],
   "source": [
    "z = int(input())\n",
    "if z>=90 and z<=100:\n",
    "  print(\"A\")\n",
    "elif z>=80 and z<=89:\n",
    "  print(\"B\")\n",
    "elif z>=70 and z<=79:\n",
    "  print(\"C\")\n",
    "elif z>=60 and z<=69:\n",
    "  print(\"D\")\n",
    "elif z>=0 and z<=59:\n",
    "  print(\"F\")"
   ]
  },
  {
   "cell_type": "code",
   "execution_count": null,
   "id": "d269b1b1",
   "metadata": {},
   "outputs": [],
   "source": []
  }
 ],
 "metadata": {
  "kernelspec": {
   "display_name": "Python 3 (ipykernel)",
   "language": "python",
   "name": "python3"
  },
  "language_info": {
   "codemirror_mode": {
    "name": "ipython",
    "version": 3
   },
   "file_extension": ".py",
   "mimetype": "text/x-python",
   "name": "python",
   "nbconvert_exporter": "python",
   "pygments_lexer": "ipython3",
   "version": "3.9.12"
  }
 },
 "nbformat": 4,
 "nbformat_minor": 5
}
